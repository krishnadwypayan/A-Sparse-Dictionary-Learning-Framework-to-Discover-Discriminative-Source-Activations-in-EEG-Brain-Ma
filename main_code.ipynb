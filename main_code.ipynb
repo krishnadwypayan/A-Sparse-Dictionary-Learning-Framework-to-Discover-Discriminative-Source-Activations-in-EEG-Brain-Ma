{
 "cells": [
  {
   "cell_type": "code",
   "execution_count": 4,
   "metadata": {
    "collapsed": true
   },
   "outputs": [],
   "source": [
    "import numpy as np\n",
    "import ksvd\n",
    "from data_extract import extract\n",
    "from sklearn.feature_extraction import image\n",
    "from math import sqrt\n",
    "from random import randrange\n",
    "from random import seed\n",
    "import sklearn\n",
    "from sklearn.decomposition import DictionaryLearning\n",
    "from sklearn.linear_model import OrthogonalMatchingPursuit\n",
    "from sklearn.datasets import make_sparse_coded_signal"
   ]
  },
  {
   "cell_type": "code",
   "execution_count": 21,
   "metadata": {
    "collapsed": true
   },
   "outputs": [],
   "source": [
    "def updation_model(X,L,S):\n",
    "    \n",
    "    temp = np.zeros(np.shape(X))\n",
    "    for i in range(np.shape(L)[1]):\n",
    "        for j in range(np.shape(S)[0]):\n",
    "            if i!=j:\n",
    "                temp = np.add(temp,np.outer(L[:,i],S[j,:]))\n",
    "                \n",
    "        E_i = np.subtract(X , temp)\n",
    "        print(\"E_i: \", np.shape(E_i))\n",
    "\n",
    "        w = np.where(S[i,:] != 0)\n",
    "        print(w)\n",
    "        \n",
    "        E_i_p = E_i[:, w[0]]\n",
    "        \n",
    "        u, s, vt = np.linalg.svd(E_i_p, full_matrices=True)\n",
    "        print(u.shape, s.shape, vt.shape)\n",
    "        \n",
    "        L[:,i] = u[:,1]\n",
    "        S[i,:] = vt[1,:] * s[1]\n",
    "    return L, S\n",
    "        "
   ]
  },
  {
   "cell_type": "code",
   "execution_count": 6,
   "metadata": {
    "collapsed": true
   },
   "outputs": [],
   "source": [
    "def orthogonal_matching_pursuit(X,L):\n",
    "#     print(np.shape(X))\n",
    "#     print(np.shape(L))\n",
    "    X = np.array(X)\n",
    "    L = np.array(L)\n",
    "    S = []\n",
    "    for i in range(np.shape(X)[1]):\n",
    "        x = X[:,i]\n",
    "        omp = OrthogonalMatchingPursuit()\n",
    "        omp.fit(L,x)\n",
    "        coef = omp.coef_\n",
    "        S.append(coef)\n",
    "        \n",
    "    S = np.array(S).T\n",
    "    print(\"X shape: \",np.shape(X))\n",
    "    print(\"L shape: \",np.shape(L))\n",
    "    print(\"S shape: \",np.shape(S))\n",
    "    return S"
   ]
  },
  {
   "cell_type": "code",
   "execution_count": 7,
   "metadata": {},
   "outputs": [
    {
     "name": "stdout",
     "output_type": "stream",
     "text": [
      "(278, 64, 3000)\n"
     ]
    }
   ],
   "source": [
    "dataset = extract()"
   ]
  },
  {
   "cell_type": "code",
   "execution_count": 22,
   "metadata": {},
   "outputs": [
    {
     "name": "stderr",
     "output_type": "stream",
     "text": [
      "/Users/krishnadwypayan/anaconda3/lib/python3.6/site-packages/sklearn/decomposition/dict_learning.py:160: RuntimeWarning:  Orthogonal matching pursuit ended prematurely due to linear\n",
      "dependence in the dictionary. The requested precision might not have been met.\n",
      "\n",
      "  copy_Xy=copy_cov).T\n"
     ]
    },
    {
     "name": "stdout",
     "output_type": "stream",
     "text": [
      "X shape:  (64, 3000)\n",
      "L shape:  (64, 128)\n",
      "S shape:  (128, 3000)\n",
      "E_i:  (64, 3000)\n",
      "(array([   0,    1,    2, ..., 2997, 2998, 2999]),)\n",
      "(64, 64) (64,) (2951, 2951)\n"
     ]
    },
    {
     "ename": "ValueError",
     "evalue": "could not broadcast input array from shape (2951) into shape (3000)",
     "output_type": "error",
     "traceback": [
      "\u001b[0;31m---------------------------------------------------------------------------\u001b[0m",
      "\u001b[0;31mValueError\u001b[0m                                Traceback (most recent call last)",
      "\u001b[0;32m<ipython-input-22-5f89e519f185>\u001b[0m in \u001b[0;36m<module>\u001b[0;34m()\u001b[0m\n\u001b[1;32m      6\u001b[0m     \u001b[0mS\u001b[0m \u001b[0;34m=\u001b[0m \u001b[0morthogonal_matching_pursuit\u001b[0m\u001b[0;34m(\u001b[0m\u001b[0mX\u001b[0m\u001b[0;34m,\u001b[0m \u001b[0mL\u001b[0m\u001b[0;34m)\u001b[0m\u001b[0;34m\u001b[0m\u001b[0m\n\u001b[1;32m      7\u001b[0m \u001b[0;34m\u001b[0m\u001b[0m\n\u001b[0;32m----> 8\u001b[0;31m     \u001b[0mL\u001b[0m\u001b[0;34m,\u001b[0m \u001b[0mS\u001b[0m \u001b[0;34m=\u001b[0m \u001b[0mupdation_model\u001b[0m\u001b[0;34m(\u001b[0m\u001b[0mX\u001b[0m\u001b[0;34m,\u001b[0m\u001b[0mL\u001b[0m\u001b[0;34m,\u001b[0m\u001b[0mS\u001b[0m\u001b[0;34m)\u001b[0m\u001b[0;34m\u001b[0m\u001b[0m\n\u001b[0m\u001b[1;32m      9\u001b[0m     \u001b[0;31m#print(np.subtract(X,np.matmul(L,S)))\u001b[0m\u001b[0;34m\u001b[0m\u001b[0;34m\u001b[0m\u001b[0m\n\u001b[1;32m     10\u001b[0m     \u001b[0;32mbreak\u001b[0m\u001b[0;34m\u001b[0m\u001b[0m\n",
      "\u001b[0;32m<ipython-input-21-114ae7e232f3>\u001b[0m in \u001b[0;36mupdation_model\u001b[0;34m(X, L, S)\u001b[0m\n\u001b[1;32m     19\u001b[0m \u001b[0;34m\u001b[0m\u001b[0m\n\u001b[1;32m     20\u001b[0m         \u001b[0mL\u001b[0m\u001b[0;34m[\u001b[0m\u001b[0;34m:\u001b[0m\u001b[0;34m,\u001b[0m\u001b[0mi\u001b[0m\u001b[0;34m]\u001b[0m \u001b[0;34m=\u001b[0m \u001b[0mu\u001b[0m\u001b[0;34m[\u001b[0m\u001b[0;34m:\u001b[0m\u001b[0;34m,\u001b[0m\u001b[0;36m1\u001b[0m\u001b[0;34m]\u001b[0m\u001b[0;34m\u001b[0m\u001b[0m\n\u001b[0;32m---> 21\u001b[0;31m         \u001b[0mS\u001b[0m\u001b[0;34m[\u001b[0m\u001b[0mi\u001b[0m\u001b[0;34m,\u001b[0m\u001b[0;34m:\u001b[0m\u001b[0;34m]\u001b[0m \u001b[0;34m=\u001b[0m \u001b[0mvt\u001b[0m\u001b[0;34m[\u001b[0m\u001b[0;36m1\u001b[0m\u001b[0;34m,\u001b[0m\u001b[0;34m:\u001b[0m\u001b[0;34m]\u001b[0m \u001b[0;34m*\u001b[0m \u001b[0ms\u001b[0m\u001b[0;34m[\u001b[0m\u001b[0;36m1\u001b[0m\u001b[0;34m]\u001b[0m\u001b[0;34m\u001b[0m\u001b[0m\n\u001b[0m\u001b[1;32m     22\u001b[0m     \u001b[0;32mreturn\u001b[0m \u001b[0mL\u001b[0m\u001b[0;34m,\u001b[0m \u001b[0mS\u001b[0m\u001b[0;34m\u001b[0m\u001b[0m\n\u001b[1;32m     23\u001b[0m \u001b[0;34m\u001b[0m\u001b[0m\n",
      "\u001b[0;31mValueError\u001b[0m: could not broadcast input array from shape (2951) into shape (3000)"
     ]
    }
   ],
   "source": [
    "for X in dataset:\n",
    "    d = DictionaryLearning(n_components=128, alpha=1, max_iter=5)\n",
    "    L = d.fit_transform(X)\n",
    "#     print(\"Dictionary: \", L)\n",
    "#     print(\"Dictionary shape: \", np.array(L).shape)\n",
    "    S = orthogonal_matching_pursuit(X, L)\n",
    "    \n",
    "    L, S = updation_model(X,L,S)\n",
    "    #print(np.subtract(X,np.matmul(L,S)))\n",
    "    break"
   ]
  },
  {
   "cell_type": "markdown",
   "metadata": {},
   "source": []
  }
 ],
 "metadata": {
  "kernelspec": {
   "display_name": "Python 3",
   "language": "python",
   "name": "python3"
  },
  "language_info": {
   "codemirror_mode": {
    "name": "ipython",
    "version": 3
   },
   "file_extension": ".py",
   "mimetype": "text/x-python",
   "name": "python",
   "nbconvert_exporter": "python",
   "pygments_lexer": "ipython3",
   "version": "3.6.3"
  }
 },
 "nbformat": 4,
 "nbformat_minor": 2
}
